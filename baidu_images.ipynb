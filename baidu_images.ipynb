{
 "cells": [
  {
   "cell_type": "markdown",
   "metadata": {},
   "source": [
    "## 从百度图片下载图片"
   ]
  },
  {
   "cell_type": "markdown",
   "metadata": {},
   "source": [
    "### 获取网页数据\n",
    "\n",
    "获取数据之前需要对见面数据进行分析"
   ]
  },
  {
   "cell_type": "code",
   "execution_count": 2,
   "metadata": {
    "collapsed": true
   },
   "outputs": [],
   "source": [
    "import urllib\n",
    "import re\n",
    "\n",
    "# http://image.baidu.com/channel?c=摄影&t=风景&s=1\n",
    "url = 'http://image.baidu.com/channel?c=%E6%91%84%E5%BD%B1&t=%E9%A3%8E%E6%99%AF&s=1'"
   ]
  },
  {
   "cell_type": "code",
   "execution_count": 3,
   "metadata": {
    "collapsed": false
   },
   "outputs": [],
   "source": [
    "f = urllib.urlopen(url)\n",
    "\n",
    "data = f.read()"
   ]
  },
  {
   "cell_type": "code",
   "execution_count": 5,
   "metadata": {
    "collapsed": false
   },
   "outputs": [
    {
     "data": {
      "text/plain": [
       "'!DOCTYPE html>\\n\\n\\n\\n\\n<!--[if lt IE 7 ]><html class=\"ie6\"><![endif]-->\\n<!--[if IE 7 ]><html class=\"ie7\"><![endif]-->\\n<!--[if IE 8 ]><html class=\"ie8\"><![endif]-->\\n<!--[if IE 9 ]><html class=\"ie9\"><![endif]-->\\n<!--[if (gt IE 9)]><html class=\"ie10plus\"><![endif]-->\\n<!--[if (!IE )]><!--><html class=\"not-ie\"><!--<![endif]-->\\n<!--STATUS OK-->\\n<head>\\n<meta http-equiv=\"Content-Type\" content=\"text/html; charset=utf-8\" />\\n<meta http-equiv=\"X-UA-Compatible\" content=\"IE=edge\">\\n<meta name=\"baidu-site-verification\" content=\"6dab5779bd511c4aadce3fae9a8eb97d\"/>\\n<title>\\xe7\\x99\\xbe\\xe5\\xba\\xa6\\xe5\\x9b\\xbe\\xe7\\x89\\x87</title>\\n\\n<link rel=\\'dns-prefetch\\' href=\"http://imgt6.bdstatic.com\" />\\n<link rel=\\'dns-prefetch\\' href=\"http://imgt7.bdstatic.com\" />\\n<link rel=\\'dns-prefetch\\' href=\"http://imgt8.bdstatic.com\" />\\n<link rel=\\'dns-prefetch\\' href=\"http://imgt9.bdstatic.com\" />\\n<link rel=\\'dns-prefetch\\' href=\"http://a.hiphotos.baidu.com\" />\\n<link rel=\\'dns-prefetch\\' href=\"http://b.hiphotos.baidu.com\" />\\n<link rel=\\'dns-prefetch\\' href=\"http://c.hiphotos.baidu.com\" />\\n<link rel=\\''"
      ]
     },
     "execution_count": 5,
     "metadata": {},
     "output_type": "execute_result"
    }
   ],
   "source": [
    "data[1:1024]"
   ]
  },
  {
   "cell_type": "markdown",
   "metadata": {},
   "source": [
    "### 图片 Json 数据"
   ]
  },
  {
   "cell_type": "code",
   "execution_count": 16,
   "metadata": {
    "collapsed": true
   },
   "outputs": [],
   "source": [
    "re_imgs = re.compile(r'.*\"imgs\":(.*)')\n",
    "imgs = re.search(re_imgs, data)"
   ]
  },
  {
   "cell_type": "code",
   "execution_count": 26,
   "metadata": {
    "collapsed": false
   },
   "outputs": [
    {
     "data": {
      "text/plain": [
       "'{        \"id\"            : \"15425961822\",        \"desc\"          : \"\\xe7\\x83\\x9f\\xe5\\x8f\\xb0\\xe6\\xb5\\xb7\\xe6\\xb9\\xbe\\xe7\\xbe\\x8e\\xe4\\xb8\\xbd\\xe7\\x9a\\x84\\xe5\\xa4\\x9c\\xe8\\x89\\xb2\",        \"tags\"          :[\"\\\\u98ce\\\\u666f\"],        \"owner\"         :{            \"userName\"      : \"\\xe5\\xb0\\x8f\\xe5\\xb0\\x8f\\xe9\\x93\\x81\\xe5\\x8c\\xa0\\xe5\\xb0\\x84\\xe6\\x89\\x8b\",            \"userId\"        : \"1149910255\",            \"userSign\"      : \"1006632960 1150198239\",            \"isSelf\"        : \"0\",            \"portrait\"      : \"ef3ce5b08fe5b08fe99381e58ca0e5b084e6898b8a44\",            \"isVip\"         : \"0\",            \"isLanv\"        : \"0\",\"isJiaju\": \"\",            \"isHunjia\": \"\",\"orgName\": \"\",                \"resUrl\": \"\",\"cert\": \"\",\"budgetNum\": \"\",            \"lanvName\"      : \"\",            \"contactName\"   : \"\"        },        \"fromPageTitle\" : \"\\xe7\\x83\\x9f\\xe5\\x8f\\xb0\\xe6\\xb5\\xb7\\xe6\\xb9\\xbe\\xe7\\xbe\\x8e\\xe4\\xb8\\xbd\\xe7\\x9a\\x84\\xe5\\xa4\\x9c\\xe8\\x89\\xb2\",        \"column\"        : \"\\xe6\\x91\\x84\\xe5\\xbd\\xb1\",        \"parentTag\"     : \"\",        \"date\"          : \"2015-11-18\",        \"downloadUrl\"   : \"\",        \"imageUrl\"      : \"http://g.hiphotos.baidu.com/image/pic/item/d31b0ef41bd5ad6e83bb244d82cb39dbb7fd3cd2.jpg\",        \"imageWidth\"    :800,        \"ima'"
      ]
     },
     "execution_count": 26,
     "metadata": {},
     "output_type": "execute_result"
    }
   ],
   "source": [
    "imgs.group(1)[1:1024]"
   ]
  },
  {
   "cell_type": "code",
   "execution_count": 20,
   "metadata": {
    "collapsed": false
   },
   "outputs": [
    {
     "data": {
      "text/plain": [
       "u'http://g.hiphotos.baidu.com/image/pic/item/d31b0ef41bd5ad6e83bb244d82cb39dbb7fd3cd2.jpg'"
      ]
     },
     "execution_count": 20,
     "metadata": {},
     "output_type": "execute_result"
    }
   ],
   "source": [
    "import json\n",
    "\n",
    "img_list = json.loads(imgs.group(1))\n",
    "img_list[0]['imageUrl']"
   ]
  },
  {
   "cell_type": "markdown",
   "metadata": {},
   "source": [
    "### 直接找图片 URL"
   ]
  },
  {
   "cell_type": "code",
   "execution_count": 21,
   "metadata": {
    "collapsed": true
   },
   "outputs": [],
   "source": [
    "re_imgs = re.compile(r'.*?\"imageUrl\"\\s*:\\s*\"(http://.*?)\"')\n",
    "img_urls = re.findall(re_imgs, data)"
   ]
  },
  {
   "cell_type": "code",
   "execution_count": 22,
   "metadata": {
    "collapsed": false
   },
   "outputs": [
    {
     "data": {
      "text/plain": [
       "['http://g.hiphotos.baidu.com/image/pic/item/d31b0ef41bd5ad6e83bb244d82cb39dbb7fd3cd2.jpg',\n",
       " 'http://d.hiphotos.baidu.com/image/pic/item/0ff41bd5ad6eddc4122d100b3adbb6fd53663373.jpg',\n",
       " 'http://b.hiphotos.baidu.com/image/pic/item/a8773912b31bb05179ec00a4357adab44bede076.jpg',\n",
       " 'http://h.hiphotos.baidu.com/image/pic/item/bd315c6034a85edf1a9ac8ab4a540923dd547527.jpg',\n",
       " 'http://f.hiphotos.baidu.com/image/pic/item/d8f9d72a6059252dd1146184379b033b5bb5b92a.jpg',\n",
       " 'http://b.hiphotos.baidu.com/image/pic/item/0bd162d9f2d3572ce02e9a4f8913632763d0c351.jpg',\n",
       " 'http://h.hiphotos.baidu.com/image/pic/item/e61190ef76c6a7ef99f7afb5fefaaf51f2de664b.jpg',\n",
       " 'http://d.hiphotos.baidu.com/image/pic/item/503d269759ee3d6d567a9c5840166d224e4adee0.jpg',\n",
       " 'http://f.hiphotos.baidu.com/image/pic/item/e61190ef76c6a7ef5b9f69b7fefaaf51f2de66e2.jpg',\n",
       " 'http://f.hiphotos.baidu.com/image/pic/item/8435e5dde71190efe392554ecd1b9d16fdfa6032.jpg',\n",
       " 'http://f.hiphotos.baidu.com/image/pic/item/0bd162d9f2d3572c2487464d8913632762d0c33e.jpg',\n",
       " 'http://f.hiphotos.baidu.com/image/pic/item/d1160924ab18972b39a9c55be5cd7b899f510a94.jpg',\n",
       " 'http://b.hiphotos.baidu.com/image/pic/item/4034970a304e251f5c633a69a486c9177e3e538f.jpg',\n",
       " 'http://d.hiphotos.baidu.com/image/pic/item/cf1b9d16fdfaaf5150835e2e8f5494eef01f7a3b.jpg',\n",
       " 'http://d.hiphotos.baidu.com/image/pic/item/5243fbf2b21193138330e52066380cd791238d2a.jpg',\n",
       " 'http://d.hiphotos.baidu.com/image/pic/item/4afbfbedab64034fbbb5d896acc379310a551d21.jpg',\n",
       " 'http://h.hiphotos.baidu.com/image/pic/item/42166d224f4a20a4013cf96893529822720ed07b.jpg',\n",
       " 'http://d.hiphotos.baidu.com/image/pic/item/1e30e924b899a901677b81991e950a7b0308f5d7.jpg',\n",
       " 'http://d.hiphotos.baidu.com/image/pic/item/b151f8198618367ac1f3a5722d738bd4b31ce523.jpg',\n",
       " 'http://d.hiphotos.baidu.com/image/pic/item/78310a55b319ebc4bcbdad368126cffc1f171653.jpg',\n",
       " 'http://h.hiphotos.baidu.com/image/pic/item/f11f3a292df5e0fe3e9452ae5f6034a85fdf7295.jpg',\n",
       " 'http://h.hiphotos.baidu.com/image/pic/item/4a36acaf2edda3ccfbca638f02e93901213f9277.jpg',\n",
       " 'http://f.hiphotos.baidu.com/image/pic/item/0df431adcbef7609ce0940302ddda3cc7cd99e1b.jpg',\n",
       " 'http://d.hiphotos.baidu.com/image/pic/item/8326cffc1e178a826ac8660bf503738da877e8a1.jpg',\n",
       " 'http://h.hiphotos.baidu.com/image/pic/item/6c224f4a20a44623569949c89b22720e0df3d7cd.jpg',\n",
       " 'http://f.hiphotos.baidu.com/image/pic/item/c2fdfc039245d6882183510ea7c27d1ed31b2493.jpg',\n",
       " 'http://f.hiphotos.baidu.com/image/pic/item/b90e7bec54e736d19a0170a098504fc2d562690c.jpg',\n",
       " 'http://d.hiphotos.baidu.com/image/pic/item/63d9f2d3572c11dfe20d5089602762d0f603c2b8.jpg',\n",
       " 'http://f.hiphotos.baidu.com/image/pic/item/0df431adcbef7609eef260372ddda3cc7dd99e99.jpg',\n",
       " 'http://f.hiphotos.baidu.com/image/pic/item/574e9258d109b3ded9138f90cfbf6c81810a4c9d.jpg',\n",
       " 'http://f.hiphotos.baidu.com/image/pic/item/728da9773912b31b152099df8518367adbb4e1fc.jpg',\n",
       " 'http://f.hiphotos.baidu.com/image/pic/item/43a7d933c895d14350a93a8470f082025baf07be.jpg',\n",
       " 'http://h.hiphotos.baidu.com/image/pic/item/42166d224f4a20a4816d796093529822720ed022.jpg',\n",
       " 'http://h.hiphotos.baidu.com/image/pic/item/c83d70cf3bc79f3d37b83e95b9a1cd11728b293e.jpg',\n",
       " 'http://h.hiphotos.baidu.com/image/pic/item/023b5bb5c9ea15ce51513bacb5003af33b87b2dc.jpg',\n",
       " 'http://g.hiphotos.baidu.com/image/pic/item/8601a18b87d6277f28f35ac02b381f30e824fc61.jpg',\n",
       " 'http://c.hiphotos.baidu.com/image/pic/item/8d5494eef01f3a29ef7d312c9a25bc315d607c9f.jpg',\n",
       " 'http://h.hiphotos.baidu.com/image/pic/item/a1ec08fa513d2697e62b4da756fbb2fb4216d854.jpg',\n",
       " 'http://b.hiphotos.baidu.com/image/pic/item/738b4710b912c8fc9a3cae37ff039245d7882178.jpg',\n",
       " 'http://f.hiphotos.baidu.com/image/pic/item/6d81800a19d8bc3e8cde5e30818ba61ea9d34571.jpg',\n",
       " 'http://b.hiphotos.baidu.com/image/pic/item/562c11dfa9ec8a13aabf3c18f403918fa1ecc0a5.jpg',\n",
       " 'http://b.hiphotos.baidu.com/image/pic/item/2e2eb9389b504fc2c496f4f3e6dde71191ef6d7e.jpg',\n",
       " 'http://b.hiphotos.baidu.com/image/pic/item/80cb39dbb6fd5266b92f79e2a818972bd407363b.jpg',\n",
       " 'http://h.hiphotos.baidu.com/image/pic/item/0bd162d9f2d3572ca69cc42a8913632763d0c3ce.jpg',\n",
       " 'http://f.hiphotos.baidu.com/image/pic/item/35a85edf8db1cb137cf76ee5de54564e93584bad.jpg',\n",
       " 'http://b.hiphotos.baidu.com/image/pic/item/a044ad345982b2b75117e76332adcbef77099b89.jpg',\n",
       " 'http://d.hiphotos.baidu.com/image/pic/item/0eb30f2442a7d93333523ad4ae4bd11372f0019b.jpg',\n",
       " 'http://b.hiphotos.baidu.com/image/pic/item/38dbb6fd5266d016606cda8f942bd40735fa351b.jpg',\n",
       " 'http://d.hiphotos.baidu.com/image/pic/item/d52a2834349b033b3870264b16ce36d3d439bda3.jpg',\n",
       " 'http://f.hiphotos.baidu.com/image/pic/item/bf096b63f6246b601922b7e4e8f81a4c510fa275.jpg',\n",
       " 'http://b.hiphotos.baidu.com/image/pic/item/8d5494eef01f3a29e48b2a639a25bc315d607cd8.jpg',\n",
       " 'http://b.hiphotos.baidu.com/image/pic/item/738b4710b912c8fc3a9e0e65ff039245d688212d.jpg',\n",
       " 'http://b.hiphotos.baidu.com/image/pic/item/e1fe9925bc315c60155d29488eb1cb1348547748.jpg',\n",
       " 'http://c.hiphotos.baidu.com/image/pic/item/e850352ac65c1038910f6732b1119313b17e89c9.jpg',\n",
       " 'http://a.hiphotos.baidu.com/image/pic/item/908fa0ec08fa513dbe9ecf2e3e6d55fbb2fbd90e.jpg',\n",
       " 'http://e.hiphotos.baidu.com/image/pic/item/8718367adab44aed52461b14b01c8701a18bfb32.jpg',\n",
       " 'http://c.hiphotos.baidu.com/image/pic/item/6159252dd42a2834f66e8dfb58b5c9ea14cebf72.jpg',\n",
       " 'http://c.hiphotos.baidu.com/image/pic/item/a8773912b31bb0517a4403d8357adab44bede0da.jpg',\n",
       " 'http://a.hiphotos.baidu.com/image/pic/item/43a7d933c895d1436517f1ae70f082025baf07dd.jpg',\n",
       " 'http://a.hiphotos.baidu.com/image/pic/item/314e251f95cad1c83f43d7aa7c3e6709c83d5146.jpg']"
      ]
     },
     "execution_count": 22,
     "metadata": {},
     "output_type": "execute_result"
    }
   ],
   "source": [
    "img_urls"
   ]
  },
  {
   "cell_type": "code",
   "execution_count": 23,
   "metadata": {
    "collapsed": false
   },
   "outputs": [
    {
     "data": {
      "text/plain": [
       "60"
      ]
     },
     "execution_count": 23,
     "metadata": {},
     "output_type": "execute_result"
    }
   ],
   "source": [
    "len(img_urls)"
   ]
  },
  {
   "cell_type": "markdown",
   "metadata": {},
   "source": [
    "### 下载图片"
   ]
  },
  {
   "cell_type": "code",
   "execution_count": 24,
   "metadata": {
    "collapsed": false
   },
   "outputs": [
    {
     "data": {
      "text/plain": [
       "('images/d31b0ef41bd5ad6e83bb244d82cb39dbb7fd3cd2.jpg',\n",
       " <httplib.HTTPMessage instance at 0x105b9d8c0>)"
      ]
     },
     "execution_count": 24,
     "metadata": {},
     "output_type": "execute_result"
    }
   ],
   "source": [
    "import os\n",
    "\n",
    "_filename = lambda s: os.path.join('images', os.path.split(s)[1])\n",
    "\n",
    "os.mkdir('images')\n",
    "urllib.urlretrieve(img_urls[0], _filename(img_urls[0]))"
   ]
  },
  {
   "cell_type": "code",
   "execution_count": 25,
   "metadata": {
    "collapsed": false
   },
   "outputs": [
    {
     "name": "stdout",
     "output_type": "stream",
     "text": [
      "downloading http://g.hiphotos.baidu.com/image/pic/item/d31b0ef41bd5ad6e83bb244d82cb39dbb7fd3cd2.jpg\n",
      "downloading http://d.hiphotos.baidu.com/image/pic/item/0ff41bd5ad6eddc4122d100b3adbb6fd53663373.jpg\n",
      "downloading http://b.hiphotos.baidu.com/image/pic/item/a8773912b31bb05179ec00a4357adab44bede076.jpg\n",
      "downloading http://h.hiphotos.baidu.com/image/pic/item/bd315c6034a85edf1a9ac8ab4a540923dd547527.jpg\n",
      "downloading http://f.hiphotos.baidu.com/image/pic/item/d8f9d72a6059252dd1146184379b033b5bb5b92a.jpg\n",
      "downloading http://b.hiphotos.baidu.com/image/pic/item/0bd162d9f2d3572ce02e9a4f8913632763d0c351.jpg\n",
      "downloading http://h.hiphotos.baidu.com/image/pic/item/e61190ef76c6a7ef99f7afb5fefaaf51f2de664b.jpg\n",
      "downloading http://d.hiphotos.baidu.com/image/pic/item/503d269759ee3d6d567a9c5840166d224e4adee0.jpg\n",
      "downloading http://f.hiphotos.baidu.com/image/pic/item/e61190ef76c6a7ef5b9f69b7fefaaf51f2de66e2.jpg\n",
      "downloading http://f.hiphotos.baidu.com/image/pic/item/8435e5dde71190efe392554ecd1b9d16fdfa6032.jpg\n",
      "downloading http://f.hiphotos.baidu.com/image/pic/item/0bd162d9f2d3572c2487464d8913632762d0c33e.jpg\n",
      "downloading http://f.hiphotos.baidu.com/image/pic/item/d1160924ab18972b39a9c55be5cd7b899f510a94.jpg\n",
      "downloading http://b.hiphotos.baidu.com/image/pic/item/4034970a304e251f5c633a69a486c9177e3e538f.jpg\n",
      "downloading http://d.hiphotos.baidu.com/image/pic/item/cf1b9d16fdfaaf5150835e2e8f5494eef01f7a3b.jpg\n",
      "downloading http://d.hiphotos.baidu.com/image/pic/item/5243fbf2b21193138330e52066380cd791238d2a.jpg\n",
      "downloading http://d.hiphotos.baidu.com/image/pic/item/4afbfbedab64034fbbb5d896acc379310a551d21.jpg\n",
      "downloading http://h.hiphotos.baidu.com/image/pic/item/42166d224f4a20a4013cf96893529822720ed07b.jpg\n",
      "downloading http://d.hiphotos.baidu.com/image/pic/item/1e30e924b899a901677b81991e950a7b0308f5d7.jpg\n",
      "downloading http://d.hiphotos.baidu.com/image/pic/item/b151f8198618367ac1f3a5722d738bd4b31ce523.jpg\n",
      "downloading http://d.hiphotos.baidu.com/image/pic/item/78310a55b319ebc4bcbdad368126cffc1f171653.jpg\n",
      "downloading http://h.hiphotos.baidu.com/image/pic/item/f11f3a292df5e0fe3e9452ae5f6034a85fdf7295.jpg\n",
      "downloading http://h.hiphotos.baidu.com/image/pic/item/4a36acaf2edda3ccfbca638f02e93901213f9277.jpg\n",
      "downloading http://f.hiphotos.baidu.com/image/pic/item/0df431adcbef7609ce0940302ddda3cc7cd99e1b.jpg\n",
      "downloading http://d.hiphotos.baidu.com/image/pic/item/8326cffc1e178a826ac8660bf503738da877e8a1.jpg\n",
      "downloading http://h.hiphotos.baidu.com/image/pic/item/6c224f4a20a44623569949c89b22720e0df3d7cd.jpg\n",
      "downloading http://f.hiphotos.baidu.com/image/pic/item/c2fdfc039245d6882183510ea7c27d1ed31b2493.jpg\n",
      "downloading http://f.hiphotos.baidu.com/image/pic/item/b90e7bec54e736d19a0170a098504fc2d562690c.jpg\n",
      "downloading http://d.hiphotos.baidu.com/image/pic/item/63d9f2d3572c11dfe20d5089602762d0f603c2b8.jpg\n",
      "downloading http://f.hiphotos.baidu.com/image/pic/item/0df431adcbef7609eef260372ddda3cc7dd99e99.jpg\n",
      "downloading http://f.hiphotos.baidu.com/image/pic/item/574e9258d109b3ded9138f90cfbf6c81810a4c9d.jpg\n",
      "downloading http://f.hiphotos.baidu.com/image/pic/item/728da9773912b31b152099df8518367adbb4e1fc.jpg\n",
      "downloading http://f.hiphotos.baidu.com/image/pic/item/43a7d933c895d14350a93a8470f082025baf07be.jpg\n",
      "downloading http://h.hiphotos.baidu.com/image/pic/item/42166d224f4a20a4816d796093529822720ed022.jpg\n",
      "downloading http://h.hiphotos.baidu.com/image/pic/item/c83d70cf3bc79f3d37b83e95b9a1cd11728b293e.jpg\n",
      "downloading http://h.hiphotos.baidu.com/image/pic/item/023b5bb5c9ea15ce51513bacb5003af33b87b2dc.jpg\n",
      "downloading http://g.hiphotos.baidu.com/image/pic/item/8601a18b87d6277f28f35ac02b381f30e824fc61.jpg\n",
      "downloading http://c.hiphotos.baidu.com/image/pic/item/8d5494eef01f3a29ef7d312c9a25bc315d607c9f.jpg\n",
      "downloading http://h.hiphotos.baidu.com/image/pic/item/a1ec08fa513d2697e62b4da756fbb2fb4216d854.jpg\n",
      "downloading http://b.hiphotos.baidu.com/image/pic/item/738b4710b912c8fc9a3cae37ff039245d7882178.jpg\n",
      "downloading http://f.hiphotos.baidu.com/image/pic/item/6d81800a19d8bc3e8cde5e30818ba61ea9d34571.jpg\n",
      "downloading http://b.hiphotos.baidu.com/image/pic/item/562c11dfa9ec8a13aabf3c18f403918fa1ecc0a5.jpg\n",
      "downloading http://b.hiphotos.baidu.com/image/pic/item/2e2eb9389b504fc2c496f4f3e6dde71191ef6d7e.jpg\n",
      "downloading http://b.hiphotos.baidu.com/image/pic/item/80cb39dbb6fd5266b92f79e2a818972bd407363b.jpg\n",
      "downloading http://h.hiphotos.baidu.com/image/pic/item/0bd162d9f2d3572ca69cc42a8913632763d0c3ce.jpg\n",
      "downloading http://f.hiphotos.baidu.com/image/pic/item/35a85edf8db1cb137cf76ee5de54564e93584bad.jpg\n",
      "downloading http://b.hiphotos.baidu.com/image/pic/item/a044ad345982b2b75117e76332adcbef77099b89.jpg\n",
      "downloading http://d.hiphotos.baidu.com/image/pic/item/0eb30f2442a7d93333523ad4ae4bd11372f0019b.jpg\n",
      "downloading http://b.hiphotos.baidu.com/image/pic/item/38dbb6fd5266d016606cda8f942bd40735fa351b.jpg\n",
      "downloading http://d.hiphotos.baidu.com/image/pic/item/d52a2834349b033b3870264b16ce36d3d439bda3.jpg\n",
      "downloading http://f.hiphotos.baidu.com/image/pic/item/bf096b63f6246b601922b7e4e8f81a4c510fa275.jpg\n",
      "downloading http://b.hiphotos.baidu.com/image/pic/item/8d5494eef01f3a29e48b2a639a25bc315d607cd8.jpg\n",
      "downloading http://b.hiphotos.baidu.com/image/pic/item/738b4710b912c8fc3a9e0e65ff039245d688212d.jpg\n",
      "downloading http://b.hiphotos.baidu.com/image/pic/item/e1fe9925bc315c60155d29488eb1cb1348547748.jpg\n",
      "downloading http://c.hiphotos.baidu.com/image/pic/item/e850352ac65c1038910f6732b1119313b17e89c9.jpg\n",
      "downloading http://a.hiphotos.baidu.com/image/pic/item/908fa0ec08fa513dbe9ecf2e3e6d55fbb2fbd90e.jpg\n",
      "downloading http://e.hiphotos.baidu.com/image/pic/item/8718367adab44aed52461b14b01c8701a18bfb32.jpg\n",
      "downloading http://c.hiphotos.baidu.com/image/pic/item/6159252dd42a2834f66e8dfb58b5c9ea14cebf72.jpg\n",
      "downloading http://c.hiphotos.baidu.com/image/pic/item/a8773912b31bb0517a4403d8357adab44bede0da.jpg\n",
      "downloading http://a.hiphotos.baidu.com/image/pic/item/43a7d933c895d1436517f1ae70f082025baf07dd.jpg\n",
      "downloading http://a.hiphotos.baidu.com/image/pic/item/314e251f95cad1c83f43d7aa7c3e6709c83d5146.jpg\n"
     ]
    },
    {
     "data": {
      "text/plain": [
       "['images/d31b0ef41bd5ad6e83bb244d82cb39dbb7fd3cd2.jpg',\n",
       " 'images/0ff41bd5ad6eddc4122d100b3adbb6fd53663373.jpg',\n",
       " 'images/a8773912b31bb05179ec00a4357adab44bede076.jpg',\n",
       " 'images/bd315c6034a85edf1a9ac8ab4a540923dd547527.jpg',\n",
       " 'images/d8f9d72a6059252dd1146184379b033b5bb5b92a.jpg',\n",
       " 'images/0bd162d9f2d3572ce02e9a4f8913632763d0c351.jpg',\n",
       " 'images/e61190ef76c6a7ef99f7afb5fefaaf51f2de664b.jpg',\n",
       " 'images/503d269759ee3d6d567a9c5840166d224e4adee0.jpg',\n",
       " 'images/e61190ef76c6a7ef5b9f69b7fefaaf51f2de66e2.jpg',\n",
       " 'images/8435e5dde71190efe392554ecd1b9d16fdfa6032.jpg',\n",
       " 'images/0bd162d9f2d3572c2487464d8913632762d0c33e.jpg',\n",
       " 'images/d1160924ab18972b39a9c55be5cd7b899f510a94.jpg',\n",
       " 'images/4034970a304e251f5c633a69a486c9177e3e538f.jpg',\n",
       " 'images/cf1b9d16fdfaaf5150835e2e8f5494eef01f7a3b.jpg',\n",
       " 'images/5243fbf2b21193138330e52066380cd791238d2a.jpg',\n",
       " 'images/4afbfbedab64034fbbb5d896acc379310a551d21.jpg',\n",
       " 'images/42166d224f4a20a4013cf96893529822720ed07b.jpg',\n",
       " 'images/1e30e924b899a901677b81991e950a7b0308f5d7.jpg',\n",
       " 'images/b151f8198618367ac1f3a5722d738bd4b31ce523.jpg',\n",
       " 'images/78310a55b319ebc4bcbdad368126cffc1f171653.jpg',\n",
       " 'images/f11f3a292df5e0fe3e9452ae5f6034a85fdf7295.jpg',\n",
       " 'images/4a36acaf2edda3ccfbca638f02e93901213f9277.jpg',\n",
       " 'images/0df431adcbef7609ce0940302ddda3cc7cd99e1b.jpg',\n",
       " 'images/8326cffc1e178a826ac8660bf503738da877e8a1.jpg',\n",
       " 'images/6c224f4a20a44623569949c89b22720e0df3d7cd.jpg',\n",
       " 'images/c2fdfc039245d6882183510ea7c27d1ed31b2493.jpg',\n",
       " 'images/b90e7bec54e736d19a0170a098504fc2d562690c.jpg',\n",
       " 'images/63d9f2d3572c11dfe20d5089602762d0f603c2b8.jpg',\n",
       " 'images/0df431adcbef7609eef260372ddda3cc7dd99e99.jpg',\n",
       " 'images/574e9258d109b3ded9138f90cfbf6c81810a4c9d.jpg',\n",
       " 'images/728da9773912b31b152099df8518367adbb4e1fc.jpg',\n",
       " 'images/43a7d933c895d14350a93a8470f082025baf07be.jpg',\n",
       " 'images/42166d224f4a20a4816d796093529822720ed022.jpg',\n",
       " 'images/c83d70cf3bc79f3d37b83e95b9a1cd11728b293e.jpg',\n",
       " 'images/023b5bb5c9ea15ce51513bacb5003af33b87b2dc.jpg',\n",
       " 'images/8601a18b87d6277f28f35ac02b381f30e824fc61.jpg',\n",
       " 'images/8d5494eef01f3a29ef7d312c9a25bc315d607c9f.jpg',\n",
       " 'images/a1ec08fa513d2697e62b4da756fbb2fb4216d854.jpg',\n",
       " 'images/738b4710b912c8fc9a3cae37ff039245d7882178.jpg',\n",
       " 'images/6d81800a19d8bc3e8cde5e30818ba61ea9d34571.jpg',\n",
       " 'images/562c11dfa9ec8a13aabf3c18f403918fa1ecc0a5.jpg',\n",
       " 'images/2e2eb9389b504fc2c496f4f3e6dde71191ef6d7e.jpg',\n",
       " 'images/80cb39dbb6fd5266b92f79e2a818972bd407363b.jpg',\n",
       " 'images/0bd162d9f2d3572ca69cc42a8913632763d0c3ce.jpg',\n",
       " 'images/35a85edf8db1cb137cf76ee5de54564e93584bad.jpg',\n",
       " 'images/a044ad345982b2b75117e76332adcbef77099b89.jpg',\n",
       " 'images/0eb30f2442a7d93333523ad4ae4bd11372f0019b.jpg',\n",
       " 'images/38dbb6fd5266d016606cda8f942bd40735fa351b.jpg',\n",
       " 'images/d52a2834349b033b3870264b16ce36d3d439bda3.jpg',\n",
       " 'images/bf096b63f6246b601922b7e4e8f81a4c510fa275.jpg',\n",
       " 'images/8d5494eef01f3a29e48b2a639a25bc315d607cd8.jpg',\n",
       " 'images/738b4710b912c8fc3a9e0e65ff039245d688212d.jpg',\n",
       " 'images/e1fe9925bc315c60155d29488eb1cb1348547748.jpg',\n",
       " 'images/e850352ac65c1038910f6732b1119313b17e89c9.jpg',\n",
       " 'images/908fa0ec08fa513dbe9ecf2e3e6d55fbb2fbd90e.jpg',\n",
       " 'images/8718367adab44aed52461b14b01c8701a18bfb32.jpg',\n",
       " 'images/6159252dd42a2834f66e8dfb58b5c9ea14cebf72.jpg',\n",
       " 'images/a8773912b31bb0517a4403d8357adab44bede0da.jpg',\n",
       " 'images/43a7d933c895d1436517f1ae70f082025baf07dd.jpg',\n",
       " 'images/314e251f95cad1c83f43d7aa7c3e6709c83d5146.jpg']"
      ]
     },
     "execution_count": 25,
     "metadata": {},
     "output_type": "execute_result"
    }
   ],
   "source": [
    "def _download(s):\n",
    "    print('downloading %s' % s)\n",
    "    urllib.urlretrieve(s, _filename(s))\n",
    "    return _filename(s)\n",
    "\n",
    "[_download(i) for i in img_urls]"
   ]
  }
 ],
 "metadata": {
  "kernelspec": {
   "display_name": "Python 2",
   "language": "python",
   "name": "python2"
  },
  "language_info": {
   "codemirror_mode": {
    "name": "ipython",
    "version": 2
   },
   "file_extension": ".py",
   "mimetype": "text/x-python",
   "name": "python",
   "nbconvert_exporter": "python",
   "pygments_lexer": "ipython2",
   "version": "2.7.10"
  }
 },
 "nbformat": 4,
 "nbformat_minor": 0
}
