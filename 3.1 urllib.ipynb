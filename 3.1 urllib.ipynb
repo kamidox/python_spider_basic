{
 "cells": [
  {
   "cell_type": "code",
   "execution_count": 25,
   "metadata": {
    "collapsed": true
   },
   "outputs": [],
   "source": [
    "import urllib\n",
    "import os"
   ]
  },
  {
   "cell_type": "markdown",
   "metadata": {},
   "source": [
    "## urllib.urlopen"
   ]
  },
  {
   "cell_type": "code",
   "execution_count": 29,
   "metadata": {
    "collapsed": false
   },
   "outputs": [],
   "source": [
    "s = urllib.urlopen('http://blog.kamidox.com')"
   ]
  },
  {
   "cell_type": "code",
   "execution_count": 44,
   "metadata": {
    "collapsed": false
   },
   "outputs": [
    {
     "data": {
      "text/plain": [
       "['__contains__',\n",
       " '__delitem__',\n",
       " '__doc__',\n",
       " '__getitem__',\n",
       " '__init__',\n",
       " '__iter__',\n",
       " '__len__',\n",
       " '__module__',\n",
       " '__setitem__',\n",
       " '__str__',\n",
       " 'addcontinue',\n",
       " 'addheader',\n",
       " 'dict',\n",
       " 'encodingheader',\n",
       " 'fp',\n",
       " 'get',\n",
       " 'getaddr',\n",
       " 'getaddrlist',\n",
       " 'getallmatchingheaders',\n",
       " 'getdate',\n",
       " 'getdate_tz',\n",
       " 'getencoding',\n",
       " 'getfirstmatchingheader',\n",
       " 'getheader',\n",
       " 'getheaders',\n",
       " 'getmaintype',\n",
       " 'getparam',\n",
       " 'getparamnames',\n",
       " 'getplist',\n",
       " 'getrawheader',\n",
       " 'getsubtype',\n",
       " 'gettype',\n",
       " 'has_key',\n",
       " 'headers',\n",
       " 'iscomment',\n",
       " 'isheader',\n",
       " 'islast',\n",
       " 'items',\n",
       " 'keys',\n",
       " 'maintype',\n",
       " 'parseplist',\n",
       " 'parsetype',\n",
       " 'plist',\n",
       " 'plisttext',\n",
       " 'readheaders',\n",
       " 'rewindbody',\n",
       " 'seekable',\n",
       " 'setdefault',\n",
       " 'startofbody',\n",
       " 'startofheaders',\n",
       " 'status',\n",
       " 'subtype',\n",
       " 'type',\n",
       " 'typeheader',\n",
       " 'unixfrom',\n",
       " 'values']"
      ]
     },
     "execution_count": 44,
     "metadata": {},
     "output_type": "execute_result"
    }
   ],
   "source": [
    "msg = s.info()\n",
    "dir(msg)"
   ]
  },
  {
   "cell_type": "code",
   "execution_count": 58,
   "metadata": {
    "collapsed": false
   },
   "outputs": [
    {
     "data": {
      "text/plain": [
       "['text/html; charset=utf-8']"
      ]
     },
     "execution_count": 58,
     "metadata": {},
     "output_type": "execute_result"
    }
   ],
   "source": [
    "msg.getheaders('Content-Type')"
   ]
  },
  {
   "cell_type": "code",
   "execution_count": 49,
   "metadata": {
    "collapsed": false
   },
   "outputs": [
    {
     "data": {
      "text/plain": [
       "['Server: GitHub.com\\r\\n',\n",
       " 'Content-Type: text/html; charset=utf-8\\r\\n',\n",
       " 'Last-Modified: Fri, 11 Dec 2015 04:57:23 GMT\\r\\n',\n",
       " 'Access-Control-Allow-Origin: *\\r\\n',\n",
       " 'Expires: Fri, 11 Dec 2015 07:34:07 GMT\\r\\n',\n",
       " 'Cache-Control: max-age=600\\r\\n',\n",
       " 'X-GitHub-Request-Id: 2BF9481A:2F47:6430C14:566A7A16\\r\\n',\n",
       " 'Content-Length: 15269\\r\\n',\n",
       " 'Accept-Ranges: bytes\\r\\n',\n",
       " 'Date: Fri, 11 Dec 2015 07:28:35 GMT\\r\\n',\n",
       " 'Via: 1.1 varnish\\r\\n',\n",
       " 'Age: 269\\r\\n',\n",
       " 'Connection: close\\r\\n',\n",
       " 'X-Served-By: cache-nrt6124-NRT\\r\\n',\n",
       " 'X-Cache: HIT\\r\\n',\n",
       " 'X-Cache-Hits: 1\\r\\n',\n",
       " 'X-Timer: S1449818915.636269,VS0,VE0\\r\\n',\n",
       " 'Vary: Accept-Encoding\\r\\n',\n",
       " 'X-Fastly-Request-ID: 5c37ab94370adfd5608de9ad83fa5e74bbe9419f\\r\\n']"
      ]
     },
     "execution_count": 49,
     "metadata": {},
     "output_type": "execute_result"
    }
   ],
   "source": [
    "msg.headers"
   ]
  },
  {
   "cell_type": "code",
   "execution_count": 51,
   "metadata": {
    "collapsed": false
   },
   "outputs": [
    {
     "data": {
      "text/plain": [
       "'text/html'"
      ]
     },
     "execution_count": 51,
     "metadata": {},
     "output_type": "execute_result"
    }
   ],
   "source": [
    "msg.gettype()"
   ]
  },
  {
   "cell_type": "code",
   "execution_count": 59,
   "metadata": {
    "collapsed": false
   },
   "outputs": [
    {
     "data": {
      "text/plain": [
       "'GitHub.com'"
      ]
     },
     "execution_count": 59,
     "metadata": {},
     "output_type": "execute_result"
    }
   ],
   "source": [
    "msg.getheader('Server')"
   ]
  },
  {
   "cell_type": "markdown",
   "metadata": {},
   "source": [
    "## urllib.urlretrieve"
   ]
  },
  {
   "cell_type": "code",
   "execution_count": 68,
   "metadata": {
    "collapsed": false
   },
   "outputs": [],
   "source": [
    "(filename, msg) = urllib.urlretrieve(\"http://blog.kamidox.com\", 'index.html')"
   ]
  },
  {
   "cell_type": "code",
   "execution_count": 70,
   "metadata": {
    "collapsed": false
   },
   "outputs": [
    {
     "data": {
      "text/plain": [
       "'index.html'"
      ]
     },
     "execution_count": 70,
     "metadata": {},
     "output_type": "execute_result"
    }
   ],
   "source": [
    "filename"
   ]
  },
  {
   "cell_type": "code",
   "execution_count": 85,
   "metadata": {
    "collapsed": false
   },
   "outputs": [
    {
     "data": {
      "text/plain": [
       "[('content-length', '15269'),\n",
       " ('via', '1.1 varnish'),\n",
       " ('x-timer', 'S1449820294.970222,VS0,VE164'),\n",
       " ('x-cache', 'HIT'),\n",
       " ('x-github-request-id', '2BF9481A:2F47:6430C14:566A7A16'),\n",
       " ('accept-ranges', 'bytes'),\n",
       " ('expires', 'Fri, 11 Dec 2015 07:34:07 GMT'),\n",
       " ('vary', 'Accept-Encoding'),\n",
       " ('server', 'GitHub.com'),\n",
       " ('last-modified', 'Fri, 11 Dec 2015 04:57:23 GMT'),\n",
       " ('connection', 'close'),\n",
       " ('x-served-by', 'cache-nrt6124-NRT'),\n",
       " ('x-cache-hits', '1'),\n",
       " ('cache-control', 'max-age=600'),\n",
       " ('date', 'Fri, 11 Dec 2015 07:51:35 GMT'),\n",
       " ('access-control-allow-origin', '*'),\n",
       " ('content-type', 'text/html; charset=utf-8'),\n",
       " ('age', '0'),\n",
       " ('x-fastly-request-id', '62db6379de3639a1954133be59a03dc430da5540')]"
      ]
     },
     "execution_count": 85,
     "metadata": {},
     "output_type": "execute_result"
    }
   ],
   "source": [
    "msg.items()"
   ]
  },
  {
   "cell_type": "code",
   "execution_count": 89,
   "metadata": {
    "collapsed": false
   },
   "outputs": [
    {
     "name": "stdout",
     "output_type": "stream",
     "text": [
      "0/15269 - 0.00\n",
      "8192/15269 - 53.65\n",
      "16384/15269 - 107.30\n"
     ]
    }
   ],
   "source": [
    "def progress_report(blks, blk_size, total_size):\n",
    "    print('%d/%d - %.02f' %(blks * blk_size, total_size, (float(blks * blk_size) * 100 / total_size)))\n",
    "\n",
    "(filename, msg) = urllib.urlretrieve(\"http://blog.kamidox.com\", 'index.html', reporthook=progress_report)"
   ]
  },
  {
   "cell_type": "markdown",
   "metadata": {},
   "source": [
    "## 工具函数"
   ]
  },
  {
   "cell_type": "code",
   "execution_count": 91,
   "metadata": {
    "collapsed": false
   },
   "outputs": [
    {
     "data": {
      "text/plain": [
       "'a=100&c=text&name=%E4%B8%AD%E6%96%87'"
      ]
     },
     "execution_count": 91,
     "metadata": {},
     "output_type": "execute_result"
    }
   ],
   "source": [
    "query = {'a': 100, 'name': '中文', 'c': 'text'}\n",
    "urllib.urlencode(query)"
   ]
  },
  {
   "cell_type": "code",
   "execution_count": 101,
   "metadata": {
    "collapsed": false
   },
   "outputs": [
    {
     "data": {
      "text/plain": [
       "ParseResult(scheme='https', netloc='www.baidu.com', path='/s', params='', query='wd=url%20%E7%BC%96%E7%A0%81%E8%A7%84%E5%88%99&rsv_spt=1&rsv_iqid=0x928cf1380000a436&issp=1&f=8&rsv_bp=0&rsv_idx=2&ie=utf-8&tn=baiduhome_pg&rsv_enter=1&rsv_sug3=16&rsv_sug1=15&rsv_t=1699JwFmhB8a5kfErU33lHHt8KRbsMzqMwqlJ00%2F9fusUM%2Bmx3gc8GLs5In0kVh7s3zU&rsv_sug2=0&inputT=5565&rsv_sug4=6174', fragment='')"
      ]
     },
     "execution_count": 101,
     "metadata": {},
     "output_type": "execute_result"
    }
   ],
   "source": [
    "import urlparse\n",
    "\n",
    "qs = 'https://www.baidu.com/s?wd=url%20%E7%BC%96%E7%A0%81%E8%A7%84%E5%88%99&rsv_spt=1&rsv_iqid=0x928cf1380000a436&issp=1&f=8&rsv_bp=0&rsv_idx=2&ie=utf-8&tn=baiduhome_pg&rsv_enter=1&rsv_sug3=16&rsv_sug1=15&rsv_t=1699JwFmhB8a5kfErU33lHHt8KRbsMzqMwqlJ00%2F9fusUM%2Bmx3gc8GLs5In0kVh7s3zU&rsv_sug2=0&inputT=5565&rsv_sug4=6174'\n",
    "pr = urlparse.urlparse(qs)\n",
    "pr"
   ]
  },
  {
   "cell_type": "code",
   "execution_count": 103,
   "metadata": {
    "collapsed": false
   },
   "outputs": [
    {
     "data": {
      "text/plain": [
       "{'f': ['8'],\n",
       " 'ie': ['utf-8'],\n",
       " 'inputT': ['5565'],\n",
       " 'issp': ['1'],\n",
       " 'rsv_bp': ['0'],\n",
       " 'rsv_enter': ['1'],\n",
       " 'rsv_idx': ['2'],\n",
       " 'rsv_iqid': ['0x928cf1380000a436'],\n",
       " 'rsv_spt': ['1'],\n",
       " 'rsv_sug1': ['15'],\n",
       " 'rsv_sug2': ['0'],\n",
       " 'rsv_sug3': ['16'],\n",
       " 'rsv_sug4': ['6174'],\n",
       " 'rsv_t': ['1699JwFmhB8a5kfErU33lHHt8KRbsMzqMwqlJ00/9fusUM+mx3gc8GLs5In0kVh7s3zU'],\n",
       " 'tn': ['baiduhome_pg'],\n",
       " 'wd': ['url \\xe7\\xbc\\x96\\xe7\\xa0\\x81\\xe8\\xa7\\x84\\xe5\\x88\\x99']}"
      ]
     },
     "execution_count": 103,
     "metadata": {},
     "output_type": "execute_result"
    }
   ],
   "source": [
    "urlparse.parse_qs(pr.query)"
   ]
  },
  {
   "cell_type": "markdown",
   "metadata": {},
   "source": [
    "## urllib.FancyURLopener"
   ]
  },
  {
   "cell_type": "code",
   "execution_count": 110,
   "metadata": {
    "collapsed": false
   },
   "outputs": [
    {
     "name": "stdout",
     "output_type": "stream",
     "text": [
      "404 Not Found\n"
     ]
    }
   ],
   "source": [
    "class MyURLOpener(urllib.FancyURLopener):\n",
    "    def http_error_default(self, url, fp, errcode, errmsg, headers):\n",
    "        print errcode, errmsg\n",
    "\n",
    "opener = MyURLOpener()\n",
    "opener.open('http://blog.kamidox.com/ddd')"
   ]
  }
 ],
 "metadata": {
  "kernelspec": {
   "display_name": "Python 2",
   "language": "python",
   "name": "python2"
  },
  "language_info": {
   "codemirror_mode": {
    "name": "ipython",
    "version": 2
   },
   "file_extension": ".py",
   "mimetype": "text/x-python",
   "name": "python",
   "nbconvert_exporter": "python",
   "pygments_lexer": "ipython2",
   "version": "2.7.10"
  }
 },
 "nbformat": 4,
 "nbformat_minor": 0
}
